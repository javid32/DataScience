{
 "cells": [
  {
   "cell_type": "markdown",
   "id": "546ad7d2",
   "metadata": {},
   "source": [
    "# Data Science Tools and Ecosystem"
   ]
  },
  {
   "cell_type": "markdown",
   "id": "d6b2e94f",
   "metadata": {},
   "source": [
    "# In this notebook, Data Science Tools and Ecosystem are summarized."
   ]
  },
  {
   "cell_type": "markdown",
   "id": "214715dc",
   "metadata": {},
   "source": [
    "# Some of the popular languages that Data Scientists use are:"
   ]
  },
  {
   "cell_type": "markdown",
   "id": "3e246748",
   "metadata": {},
   "source": [
    "1. python\n",
    "2. R\n",
    "3. SQL"
   ]
  },
  {
   "cell_type": "markdown",
   "id": "04e4bee2",
   "metadata": {},
   "source": [
    "# one of the commonly used libraries used by Data Scientists include:"
   ]
  },
  {
   "cell_type": "markdown",
   "id": "eff8729b",
   "metadata": {},
   "source": [
    "1. numpy\n",
    "2. pamdas\n",
    "3. matplotlib"
   ]
  },
  {
   "cell_type": "markdown",
   "id": "632579f0",
   "metadata": {},
   "source": [
    "Data Science Tools\n",
    "------------------\n",
    "1. Jupyter Notebooks\n",
    "2.RStudio\n",
    "3. Anaconda\n",
    "4. Tableau\n",
    "5. Apache Spark\n",
    "6. TensorFlow\n",
    "7. PyTorch\n",
    "8. Git and GitHub\n",
    "9. Docker"
   ]
  },
  {
   "cell_type": "markdown",
   "id": "531aa96e",
   "metadata": {},
   "source": [
    "## Introducing arithmetic expression example \n",
    "### Below are a few examples of evaluating arithmetic expressions in Python"
   ]
  },
  {
   "cell_type": "code",
   "execution_count": 1,
   "id": "1c21c0ab",
   "metadata": {},
   "outputs": [
    {
     "name": "stdout",
     "output_type": "stream",
     "text": [
      "17\n"
     ]
    }
   ],
   "source": [
    "#This a simple arithmetic expression to mutiply then add integers\n",
    "\n",
    "print((3*4)+5)"
   ]
  },
  {
   "cell_type": "code",
   "execution_count": 4,
   "id": "f58c320d",
   "metadata": {},
   "outputs": [
    {
     "name": "stdout",
     "output_type": "stream",
     "text": [
      "3.0\n"
     ]
    }
   ],
   "source": [
    "#This will convert 200 minutes to hours by diving by 60\n",
    "\n",
    "print(200.0//60.0)"
   ]
  },
  {
   "cell_type": "markdown",
   "id": "80363dcc",
   "metadata": {},
   "source": [
    "# Some of the key takeaways from the course\n",
    "\n",
    "**Objectives**:\n",
    "\n",
    "- Python\n",
    "- R\n",
    "- SQL\n",
    "- Julia\n",
    "- Scala"
   ]
  },
  {
   "cell_type": "markdown",
   "id": "642a0529",
   "metadata": {},
   "source": [
    "### AUTHOR\n",
    "A.JAVID"
   ]
  }
 ],
 "metadata": {
  "kernelspec": {
   "display_name": "Python 3 (ipykernel)",
   "language": "python",
   "name": "python3"
  },
  "language_info": {
   "codemirror_mode": {
    "name": "ipython",
    "version": 3
   },
   "file_extension": ".py",
   "mimetype": "text/x-python",
   "name": "python",
   "nbconvert_exporter": "python",
   "pygments_lexer": "ipython3",
   "version": "3.11.5"
  }
 },
 "nbformat": 4,
 "nbformat_minor": 5
}
